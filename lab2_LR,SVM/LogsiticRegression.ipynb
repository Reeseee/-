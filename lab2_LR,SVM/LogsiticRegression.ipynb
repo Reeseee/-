{
 "cells": [
  {
   "cell_type": "code",
   "execution_count": 1,
   "metadata": {
    "scrolled": true
   },
   "outputs": [],
   "source": [
    "#Logistic Regression and Batch Stochastic Gradient Descent\n",
    "#1.Load the training set and validation set.\n",
    "import requests\n",
    "r1 = requests.get('''https://www.csie.ntu.edu.tw/~cjlin/libsvmtools/datasets/binary/a9a''')\n",
    "r2 = requests.get('''https://www.csie.ntu.edu.tw/~cjlin/libsvmtools/datasets/binary/a9a.t''')\n",
    "\n",
    "from sklearn.datasets import load_svmlight_file\n",
    "from io import BytesIO\n",
    "def get_data():\n",
    "    data_train = load_svmlight_file(f=BytesIO(r1.content),n_features=123)\n",
    "    data_val = load_svmlight_file(f=BytesIO(r2.content),n_features=123)\n",
    "    return data_train[0].todense(), data_train[1].reshape((-1, 1)),data_val[0].todense(),data_val[1].reshape((-1, 1))\n",
    "X_train,y_train,X_val,y_val = get_data()"
   ]
  },
  {
   "cell_type": "code",
   "execution_count": 2,
   "metadata": {},
   "outputs": [],
   "source": [
    "#preprocess\n",
    "import numpy as np\n",
    "samp_num_train,feat_num_train=X_train.shape\n",
    "samp_num_val,feat_num_val=X_val.shape\n",
    "X_train = np.column_stack((X_train, np.ones((samp_num_train, 1))))\n",
    "X_val = np.column_stack((X_val, np.ones((samp_num_val, 1))))"
   ]
  },
  {
   "cell_type": "code",
   "execution_count": 3,
   "metadata": {},
   "outputs": [],
   "source": [
    "#2.initialize w randomly\n",
    "w = np.random.random((feat_num_train + 1, 1))  # initialize with random numbers\n",
    "#w = np.zeros((feat_num_train + 1, 1))"
   ]
  },
  {
   "cell_type": "code",
   "execution_count": 4,
   "metadata": {},
   "outputs": [],
   "source": [
    "#initialize the param\n",
    "import random\n",
    "batch_size=13\n",
    "learning_rate=0.1\n",
    "max_epoch_num=30\n",
    "\n",
    "losses_train = []\n",
    "losses_val = []\n",
    "accuracy_list=[]\n",
    "\n",
    "#the sigmoid function\n",
    "def sigmoid(z):\n",
    "     return 1.0/(1 + np.exp(-z))\n",
    "    \n",
    "#3.Select the loss function  \n",
    "def loss(X,y):\n",
    "    t=0\n",
    "    for i in range(X.shape[0]):\n",
    "        t+=np.log(1 + np.exp(-y[i]*np.dot(w.transpose(),X[i].transpose())))\n",
    "    return t/X.shape[0]    "
   ]
  },
  {
   "cell_type": "code",
   "execution_count": 5,
   "metadata": {},
   "outputs": [
    {
     "name": "stdout",
     "output_type": "stream",
     "text": [
      "4.787919815844685\n",
      "4.387923531285869\n",
      "3.974242182153949\n",
      "3.500815135794469\n",
      "3.060358897503956\n",
      "2.7392428611486275\n",
      "2.448043711544832\n",
      "2.034507030235481\n",
      "1.7369757090983267\n",
      "1.4864513928981644\n",
      "1.2385619864678281\n",
      "1.1056766437349657\n",
      "0.9957295676368091\n",
      "0.8722110067873298\n",
      "0.7761275193734347\n",
      "0.7241140996833444\n",
      "0.7099131045693737\n",
      "0.6786444708595657\n",
      "0.6733316232896207\n",
      "0.6589121434004794\n",
      "0.6365101501969026\n",
      "0.6317676464250687\n",
      "0.6341975593941237\n",
      "0.6290220738681644\n",
      "0.6324634190422512\n",
      "0.611719416352215\n",
      "0.606470924470176\n",
      "0.6009821939466056\n",
      "0.5954530861276045\n",
      "0.593315354573851\n",
      "[0.23622627602727106, 0.23622627602727106, 0.23622627602727106, 0.23622627602727106, 0.23622627602727106, 0.23622627602727106, 0.23622627602727106, 0.23659480375898287, 0.24107855782814325, 0.2531785516860144, 0.29181254222713593, 0.3380013512683496, 0.3865855905656901, 0.4656962103064922, 0.5426570849456421, 0.5914870093974571, 0.6067809102634973, 0.6393956145199926, 0.644370738898102, 0.6583133714145323, 0.6847245255205454, 0.6876113260856213, 0.6794422946993428, 0.6846016829433081, 0.6774768134635465, 0.7043179165898901, 0.7067133468460168, 0.7142067440574903, 0.7151894846753885, 0.710214360297279]\n"
     ]
    }
   ],
   "source": [
    "#3.Select the loss function and calculate its derivation\n",
    "for epoch in range(max_epoch_num):\n",
    "    #randomly take some samples\n",
    "    randIndex = random.sample(range(samp_num_train),batch_size)\n",
    "    batch_X = X_train[randIndex]\n",
    "    batch_y = y_train[randIndex]\n",
    "    s=np.zeros((feat_num_train+1,1))#initialize\n",
    "    for i in range(batch_size):\n",
    "        temp=batch_y[i]*np.dot(w.transpose(),batch_X[i].transpose())\n",
    "        #item():high-dimension array to scalar\n",
    "        s+=(sigmoid(temp)*batch_y[i]*np.exp(-temp)).item()*batch_X[i].transpose()\n",
    "    G=-s/batch_size\n",
    "    w -= learning_rate * G\n",
    "    #under train set\n",
    "    loss_train=loss(X_train,y_train).item()\n",
    "    print(loss_train)\n",
    "    losses_train.append(loss_train)\n",
    "    #under valication set\n",
    "    loss_val=loss(X_val,y_val).item()\n",
    "    losses_val.append(loss_val)\n",
    "\n",
    "    #calculate the accuracy rate\n",
    "\n",
    "    predict_res=[]\n",
    "    for i in range (X_val.shape[0]):\n",
    "            class_res = np.dot(w.transpose(),X_val[i].transpose())\n",
    "            if(class_res >= 0):\n",
    "                predict_res.append(1)\n",
    "            if(class_res < 0):\n",
    "                predict_res.append(-1)\n",
    "    correct=0\n",
    "    for i in range(X_val.shape[0]):\n",
    "            if(predict_res[i]==y_val[i]):\n",
    "                correct+=1\n",
    "    auc = correct/X_val.shape[0]\n",
    "    accuracy_list.append(auc)\n",
    "print(accuracy_list)\n",
    "    \n",
    "    "
   ]
  },
  {
   "cell_type": "code",
   "execution_count": 6,
   "metadata": {
    "scrolled": true
   },
   "outputs": [
    {
     "data": {
      "text/plain": [
       "Text(0.5, 1.0, 'The graph of Lvadidation and accuracy rate varying with the number of iterations')"
      ]
     },
     "execution_count": 6,
     "metadata": {},
     "output_type": "execute_result"
    },
    {
     "data": {
      "image/png": "[encoded data removed]",
      "text/plain": [
       "<Figure size 720x432 with 1 Axes>"
      ]
     },
     "metadata": {
      "needs_background": "light"
     },
     "output_type": "display_data"
    }
   ],
   "source": [
    "\n",
    "#draw\n",
    "%matplotlib inline\n",
    "import matplotlib.pyplot as plt\n",
    "plt.figure(figsize=(10, 6))\n",
    "plt.plot(losses_train,color=\"r\", label=\"trainning loss\")\n",
    "plt.plot(losses_val,color=\"b\", label=\"validation loss\")\n",
    "plt.plot(accuracy_list,color=\"g\", label=\"accuracy rate\")\n",
    "\n",
    "plt.xlabel(\"epoch\")\n",
    "plt.ylabel(\"loss\")\n",
    "plt.legend()\n",
    "plt.title(\"The graph of Lvadidation and accuracy rate varying with the number of iterations\")"
   ]
  },
  {
   "cell_type": "code",
   "execution_count": null,
   "metadata": {},
   "outputs": [],
   "source": []
  }
 ],
 "metadata": {
  "kernelspec": {
   "display_name": "Python 3",
   "language": "python",
   "name": "python3"
  },
  "language_info": {
   "codemirror_mode": {
    "name": "ipython",
    "version": 3
   },
   "file_extension": ".py",
   "mimetype": "text/x-python",
   "name": "python",
   "nbconvert_exporter": "python",
   "pygments_lexer": "ipython3",
   "version": "3.8.3"
  }
 },
 "nbformat": 4,
 "nbformat_minor": 4
}
